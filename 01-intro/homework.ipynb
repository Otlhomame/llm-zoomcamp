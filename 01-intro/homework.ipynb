{
 "cells": [
  {
   "cell_type": "code",
   "execution_count": 1,
   "id": "4bac8485-9434-4c7a-a2cf-8452ddc53c94",
   "metadata": {},
   "outputs": [],
   "source": [
    "import openai"
   ]
  },
  {
   "cell_type": "code",
   "execution_count": 2,
   "id": "67b54e64-8238-437d-85d5-56737b9cce1c",
   "metadata": {},
   "outputs": [],
   "source": [
    "from openai import OpenAI"
   ]
  },
  {
   "cell_type": "code",
   "execution_count": 3,
   "id": "9fbd4c53-6c9a-4f70-aca7-7ed78cb00b9c",
   "metadata": {},
   "outputs": [],
   "source": [
    "client = OpenAI()"
   ]
  },
  {
   "cell_type": "code",
   "execution_count": 4,
   "id": "69183418-282a-42b6-a75d-ec2a114fb024",
   "metadata": {},
   "outputs": [],
   "source": [
    "import os"
   ]
  },
  {
   "cell_type": "code",
   "execution_count": 5,
   "id": "c0d0152d-7c43-4d71-9e6a-0f4fcbb50a74",
   "metadata": {},
   "outputs": [],
   "source": [
    "response = client.chat.completions.create(\n",
    "    model='gpt-4o',\n",
    "    messages=[{\"role\": \"user\", \"content\": \"is it too late to join the course?\"}]\n",
    ")"
   ]
  },
  {
   "cell_type": "code",
   "execution_count": 8,
   "id": "635e7e7e-ed89-43ae-99a8-3c1cb55ba6a3",
   "metadata": {},
   "outputs": [
    {
     "data": {
      "text/plain": [
       "\"It's difficult to determine without additional context. Course availability can vary widely depending on factors such as the institution offering the course, the type of course, and the enrollment policies. Here are a few general steps you can take to find out:\\n\\n1. **Check the Course Website:** The most up-to-date information is usually available on the official course website or the portal of the educational institution offering the course.\\n\\n2. **Contact the Instructor or Administration:** Reaching out directly to the course instructor or the administration office can provide you with specific details about enrollment deadlines and any possible exceptions.\\n\\n3. **Late Enrollment Policies:** Some institutions or courses have policies that allow for late enrollment with certain conditions, such as special permissions or late fees. \\n\\n4. **Open Courses:** For MOOCs (Massive Open Online Courses) or other types of open-access courses, enrollment is often more flexible, and you might still be able to join even if the course has already started.\\n\\nPlease provide more details if you need specific advice for a particular course or institution.\""
      ]
     },
     "execution_count": 8,
     "metadata": {},
     "output_type": "execute_result"
    }
   ],
   "source": [
    "response.choices[0].message.content"
   ]
  },
  {
   "cell_type": "code",
   "execution_count": null,
   "id": "ceebcea7-66b3-4031-a0f9-f0ae7fd25399",
   "metadata": {},
   "outputs": [],
   "source": []
  }
 ],
 "metadata": {
  "kernelspec": {
   "display_name": "Python 3 (ipykernel)",
   "language": "python",
   "name": "python3"
  },
  "language_info": {
   "codemirror_mode": {
    "name": "ipython",
    "version": 3
   },
   "file_extension": ".py",
   "mimetype": "text/x-python",
   "name": "python",
   "nbconvert_exporter": "python",
   "pygments_lexer": "ipython3",
   "version": "3.10.13"
  }
 },
 "nbformat": 4,
 "nbformat_minor": 5
}
